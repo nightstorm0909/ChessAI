{
  "nbformat": 4,
  "nbformat_minor": 0,
  "metadata": {
    "colab": {
      "name": "ChessAI train Keras Model with TPU.ipynb",
      "version": "0.3.2",
      "provenance": [],
      "collapsed_sections": [],
      "include_colab_link": true
    },
    "kernelspec": {
      "name": "python3",
      "display_name": "Python 3"
    },
    "accelerator": "TPU"
  },
  "cells": [
    {
      "cell_type": "markdown",
      "metadata": {
        "id": "view-in-github",
        "colab_type": "text"
      },
      "source": [
        "<a href=\"https://colab.research.google.com/github/nightstorm0909/ChessAI/blob/master/ChessAI_train_Keras_Model_with_TPU.ipynb\" target=\"_parent\"><img src=\"https://colab.research.google.com/assets/colab-badge.svg\" alt=\"Open In Colab\"/></a>"
      ]
    },
    {
      "metadata": {
        "id": "OfEMJPTGrf7W",
        "colab_type": "code",
        "outputId": "06e615ce-14d0-4b24-a22e-699137be8b47",
        "colab": {
          "base_uri": "https://localhost:8080/",
          "height": 124
        }
      },
      "cell_type": "code",
      "source": [
        "from google.colab import drive\n",
        "drive.mount(\"/content/drive/\")"
      ],
      "execution_count": 0,
      "outputs": [
        {
          "output_type": "stream",
          "text": [
            "Go to this URL in a browser: https://accounts.google.com/o/oauth2/auth?client_id=947318989803-6bn6qk8qdgf4n4g3pfee6491hc0brc4i.apps.googleusercontent.com&redirect_uri=urn%3Aietf%3Awg%3Aoauth%3A2.0%3Aoob&scope=email%20https%3A%2F%2Fwww.googleapis.com%2Fauth%2Fdocs.test%20https%3A%2F%2Fwww.googleapis.com%2Fauth%2Fdrive%20https%3A%2F%2Fwww.googleapis.com%2Fauth%2Fdrive.photos.readonly%20https%3A%2F%2Fwww.googleapis.com%2Fauth%2Fpeopleapi.readonly&response_type=code\n",
            "\n",
            "Enter your authorization code:\n",
            "··········\n",
            "Mounted at /content/drive/\n"
          ],
          "name": "stdout"
        }
      ]
    },
    {
      "metadata": {
        "id": "M6gW386xsDEr",
        "colab_type": "code",
        "outputId": "fe169ba3-33b0-4ca2-b959-a00c6efc92eb",
        "colab": {
          "base_uri": "https://localhost:8080/",
          "height": 35
        }
      },
      "cell_type": "code",
      "source": [
        "!cd \"/content/drive/My Drive/Colab Notebooks/ChessAI\"\n",
        "!ls"
      ],
      "execution_count": 0,
      "outputs": [
        {
          "output_type": "stream",
          "text": [
            "drive  sample_data\n"
          ],
          "name": "stdout"
        }
      ]
    },
    {
      "metadata": {
        "id": "lgFDdTqarSgx",
        "colab_type": "code",
        "colab": {}
      },
      "cell_type": "code",
      "source": [
        "import tensorflow as tf\n",
        "import os\n",
        "import numpy as np\n",
        "from tensorflow.keras.layers import Input\n",
        "from tensorflow.keras.models import Model\n",
        "from tensorflow.keras.layers import Conv2D\n",
        "from tensorflow.keras.layers import Activation, Dense, Flatten\n",
        "from tensorflow.keras.layers import Add\n",
        "from tensorflow.keras.layers import BatchNormalization\n",
        "from tensorflow.keras.regularizers import l2\n",
        "from tensorflow.keras.utils import plot_model\n",
        "from tensorflow.keras.optimizers import Adam\n",
        "from tensorflow.keras.callbacks import TensorBoard\n",
        "from tensorflow.keras.backend import clear_session"
      ],
      "execution_count": 0,
      "outputs": []
    },
    {
      "metadata": {
        "id": "DpH7dWM1skdB",
        "colab_type": "code",
        "outputId": "a9c96e9b-1f73-4c1a-a2ca-2f23f2053553",
        "colab": {
          "base_uri": "https://localhost:8080/",
          "height": 35
        }
      },
      "cell_type": "code",
      "source": [
        "data = np.load(os.path.join(\"/content/drive/My Drive/Colab Notebooks/ChessAI/processed\", \"dataset_keras_4000_348821.npz\"))\n",
        "state_array = data['arr_0']\n",
        "state_array = np.moveaxis(state_array, 1, 3)\n",
        "policy_array = data['arr_1']\n",
        "value_array = data['arr_2']\n",
        "print(\"[INFO] Training data: State: {}, Policy: {}, Value: {}\".format(state_array.shape, policy_array.shape, value_array.shape))\n"
      ],
      "execution_count": 0,
      "outputs": [
        {
          "output_type": "stream",
          "text": [
            "[INFO] Training data: State: (348821, 8, 8, 18), Policy: (348821, 1968), Value: (348821,)\n"
          ],
          "name": "stdout"
        }
      ]
    },
    {
      "metadata": {
        "id": "-Ssb7ovCsopA",
        "colab_type": "code",
        "colab": {}
      },
      "cell_type": "code",
      "source": [
        "def build_residual_block(x, index):\n",
        "  in_x = x\n",
        "  res_name = \"res\"+str(index)\n",
        "\n",
        "  x = Conv2D(filters = 256, kernel_size = 3, padding = \"same\", \n",
        "           kernel_regularizer = l2(1e-4), name = res_name + \"conv1_3x3_256\")(x)\n",
        "  x = BatchNormalization(axis = -1, name = res_name + \"_batchnorm1\")(x)\n",
        "  x = Activation(\"relu\",name = res_name + \"_relu1\")(x)\n",
        "\n",
        "  x = Conv2D(filters = 256, kernel_size = 3, padding = \"same\",\n",
        "           kernel_regularizer = l2(1e-4), name = res_name + \"conv2_3x3_256\")(x)\n",
        "  x = BatchNormalization(axis = -1, name = res_name + \"_batchnorm2\")(x)\n",
        "  x = Add(name = res_name + \"_add\")([in_x, x])\n",
        "  x = Activation(\"relu\",name = res_name + \"_relu2\")(x)\n",
        "  return x\n",
        "\n",
        "input_x = x = Input(shape = (8, 8, 18))\n",
        "x = Conv2D(filters = 256, kernel_size = 5, padding = \"same\", kernel_regularizer = l2(1e-4), name = \"input_conv_5x5_256\")(x)\n",
        "x = BatchNormalization(axis = -1, name = \"input_batchnorm\")(x)\n",
        "x = Activation(\"relu\", name=\"input_relu\")(x)\n",
        "\n",
        "for i in range(5):\n",
        "  x = build_residual_block(x, i + 1)\n",
        "res_out = x\n",
        "\n",
        "# for policy output\n",
        "x = Conv2D(filters = 2, kernel_size = 1, kernel_regularizer = l2(1e-4), name = \"policy_conv_1x1_2\")(res_out)\n",
        "x = BatchNormalization(axis = -1, name = \"policy_batchnorm\")(x)\n",
        "x = Activation(\"relu\", name = \"policy_relu\")(x)\n",
        "x = Flatten(name = \"policy_flatten\")(x)\n",
        "policy_out = Dense(units = 1968, activation = \"softmax\", kernel_regularizer = l2(1e-4), name=\"policy_out\")(x)\n",
        "\n",
        "# for value output\n",
        "x = Conv2D(filters = 4, kernel_size = 1, kernel_regularizer = l2(1e-4), name = \"policy_conv_1x1_4\")(res_out)\n",
        "x = BatchNormalization(axis = -1, name = \"value_batchnorm\")(x)\n",
        "x = Activation(\"relu\", name = \"value_relu\")(x)\n",
        "x = Flatten(name = \"value_flatten\")(x)\n",
        "x = Dense(units = 256, kernel_regularizer = l2(1e-4), activation = \"relu\", name = \"value_dense\")(x)\n",
        "value_out = Dense(units = 1, kernel_regularizer = l2(1e-4), activation = \"tanh\", name = \"value_out\")(x)\n",
        "\n",
        "model = Model(inputs = input_x, outputs = [policy_out, value_out], name = \"Chess Model\")"
      ],
      "execution_count": 0,
      "outputs": []
    },
    {
      "metadata": {
        "id": "ZLrLnHZptpPu",
        "colab_type": "code",
        "outputId": "3e24da8a-e7aa-4f93-be96-8dc9f141904d",
        "colab": {
          "base_uri": "https://localhost:8080/",
          "height": 1959
        }
      },
      "cell_type": "code",
      "source": [
        "model.summary()"
      ],
      "execution_count": 0,
      "outputs": [
        {
          "output_type": "stream",
          "text": [
            "__________________________________________________________________________________________________\n",
            "Layer (type)                    Output Shape         Param #     Connected to                     \n",
            "==================================================================================================\n",
            "input_1 (InputLayer)            (None, 8, 8, 18)     0                                            \n",
            "__________________________________________________________________________________________________\n",
            "input_conv_5x5_256 (Conv2D)     (None, 8, 8, 256)    115456      input_1[0][0]                    \n",
            "__________________________________________________________________________________________________\n",
            "input_batchnorm (BatchNormaliza (None, 8, 8, 256)    1024        input_conv_5x5_256[0][0]         \n",
            "__________________________________________________________________________________________________\n",
            "input_relu (Activation)         (None, 8, 8, 256)    0           input_batchnorm[0][0]            \n",
            "__________________________________________________________________________________________________\n",
            "res1conv1_3x3_256 (Conv2D)      (None, 8, 8, 256)    590080      input_relu[0][0]                 \n",
            "__________________________________________________________________________________________________\n",
            "res1_batchnorm1 (BatchNormaliza (None, 8, 8, 256)    1024        res1conv1_3x3_256[0][0]          \n",
            "__________________________________________________________________________________________________\n",
            "res1_relu1 (Activation)         (None, 8, 8, 256)    0           res1_batchnorm1[0][0]            \n",
            "__________________________________________________________________________________________________\n",
            "res1conv2_3x3_256 (Conv2D)      (None, 8, 8, 256)    590080      res1_relu1[0][0]                 \n",
            "__________________________________________________________________________________________________\n",
            "res1_batchnorm2 (BatchNormaliza (None, 8, 8, 256)    1024        res1conv2_3x3_256[0][0]          \n",
            "__________________________________________________________________________________________________\n",
            "res1_add (Add)                  (None, 8, 8, 256)    0           input_relu[0][0]                 \n",
            "                                                                 res1_batchnorm2[0][0]            \n",
            "__________________________________________________________________________________________________\n",
            "res1_relu2 (Activation)         (None, 8, 8, 256)    0           res1_add[0][0]                   \n",
            "__________________________________________________________________________________________________\n",
            "res2conv1_3x3_256 (Conv2D)      (None, 8, 8, 256)    590080      res1_relu2[0][0]                 \n",
            "__________________________________________________________________________________________________\n",
            "res2_batchnorm1 (BatchNormaliza (None, 8, 8, 256)    1024        res2conv1_3x3_256[0][0]          \n",
            "__________________________________________________________________________________________________\n",
            "res2_relu1 (Activation)         (None, 8, 8, 256)    0           res2_batchnorm1[0][0]            \n",
            "__________________________________________________________________________________________________\n",
            "res2conv2_3x3_256 (Conv2D)      (None, 8, 8, 256)    590080      res2_relu1[0][0]                 \n",
            "__________________________________________________________________________________________________\n",
            "res2_batchnorm2 (BatchNormaliza (None, 8, 8, 256)    1024        res2conv2_3x3_256[0][0]          \n",
            "__________________________________________________________________________________________________\n",
            "res2_add (Add)                  (None, 8, 8, 256)    0           res1_relu2[0][0]                 \n",
            "                                                                 res2_batchnorm2[0][0]            \n",
            "__________________________________________________________________________________________________\n",
            "res2_relu2 (Activation)         (None, 8, 8, 256)    0           res2_add[0][0]                   \n",
            "__________________________________________________________________________________________________\n",
            "res3conv1_3x3_256 (Conv2D)      (None, 8, 8, 256)    590080      res2_relu2[0][0]                 \n",
            "__________________________________________________________________________________________________\n",
            "res3_batchnorm1 (BatchNormaliza (None, 8, 8, 256)    1024        res3conv1_3x3_256[0][0]          \n",
            "__________________________________________________________________________________________________\n",
            "res3_relu1 (Activation)         (None, 8, 8, 256)    0           res3_batchnorm1[0][0]            \n",
            "__________________________________________________________________________________________________\n",
            "res3conv2_3x3_256 (Conv2D)      (None, 8, 8, 256)    590080      res3_relu1[0][0]                 \n",
            "__________________________________________________________________________________________________\n",
            "res3_batchnorm2 (BatchNormaliza (None, 8, 8, 256)    1024        res3conv2_3x3_256[0][0]          \n",
            "__________________________________________________________________________________________________\n",
            "res3_add (Add)                  (None, 8, 8, 256)    0           res2_relu2[0][0]                 \n",
            "                                                                 res3_batchnorm2[0][0]            \n",
            "__________________________________________________________________________________________________\n",
            "res3_relu2 (Activation)         (None, 8, 8, 256)    0           res3_add[0][0]                   \n",
            "__________________________________________________________________________________________________\n",
            "res4conv1_3x3_256 (Conv2D)      (None, 8, 8, 256)    590080      res3_relu2[0][0]                 \n",
            "__________________________________________________________________________________________________\n",
            "res4_batchnorm1 (BatchNormaliza (None, 8, 8, 256)    1024        res4conv1_3x3_256[0][0]          \n",
            "__________________________________________________________________________________________________\n",
            "res4_relu1 (Activation)         (None, 8, 8, 256)    0           res4_batchnorm1[0][0]            \n",
            "__________________________________________________________________________________________________\n",
            "res4conv2_3x3_256 (Conv2D)      (None, 8, 8, 256)    590080      res4_relu1[0][0]                 \n",
            "__________________________________________________________________________________________________\n",
            "res4_batchnorm2 (BatchNormaliza (None, 8, 8, 256)    1024        res4conv2_3x3_256[0][0]          \n",
            "__________________________________________________________________________________________________\n",
            "res4_add (Add)                  (None, 8, 8, 256)    0           res3_relu2[0][0]                 \n",
            "                                                                 res4_batchnorm2[0][0]            \n",
            "__________________________________________________________________________________________________\n",
            "res4_relu2 (Activation)         (None, 8, 8, 256)    0           res4_add[0][0]                   \n",
            "__________________________________________________________________________________________________\n",
            "res5conv1_3x3_256 (Conv2D)      (None, 8, 8, 256)    590080      res4_relu2[0][0]                 \n",
            "__________________________________________________________________________________________________\n",
            "res5_batchnorm1 (BatchNormaliza (None, 8, 8, 256)    1024        res5conv1_3x3_256[0][0]          \n",
            "__________________________________________________________________________________________________\n",
            "res5_relu1 (Activation)         (None, 8, 8, 256)    0           res5_batchnorm1[0][0]            \n",
            "__________________________________________________________________________________________________\n",
            "res5conv2_3x3_256 (Conv2D)      (None, 8, 8, 256)    590080      res5_relu1[0][0]                 \n",
            "__________________________________________________________________________________________________\n",
            "res5_batchnorm2 (BatchNormaliza (None, 8, 8, 256)    1024        res5conv2_3x3_256[0][0]          \n",
            "__________________________________________________________________________________________________\n",
            "res5_add (Add)                  (None, 8, 8, 256)    0           res4_relu2[0][0]                 \n",
            "                                                                 res5_batchnorm2[0][0]            \n",
            "__________________________________________________________________________________________________\n",
            "res5_relu2 (Activation)         (None, 8, 8, 256)    0           res5_add[0][0]                   \n",
            "__________________________________________________________________________________________________\n",
            "policy_conv_1x1_4 (Conv2D)      (None, 8, 8, 4)      1028        res5_relu2[0][0]                 \n",
            "__________________________________________________________________________________________________\n",
            "policy_conv_1x1_2 (Conv2D)      (None, 8, 8, 2)      514         res5_relu2[0][0]                 \n",
            "__________________________________________________________________________________________________\n",
            "value_batchnorm (BatchNormaliza (None, 8, 8, 4)      16          policy_conv_1x1_4[0][0]          \n",
            "__________________________________________________________________________________________________\n",
            "policy_batchnorm (BatchNormaliz (None, 8, 8, 2)      8           policy_conv_1x1_2[0][0]          \n",
            "__________________________________________________________________________________________________\n",
            "value_relu (Activation)         (None, 8, 8, 4)      0           value_batchnorm[0][0]            \n",
            "__________________________________________________________________________________________________\n",
            "policy_relu (Activation)        (None, 8, 8, 2)      0           policy_batchnorm[0][0]           \n",
            "__________________________________________________________________________________________________\n",
            "value_flatten (Flatten)         (None, 256)          0           value_relu[0][0]                 \n",
            "__________________________________________________________________________________________________\n",
            "policy_flatten (Flatten)        (None, 128)          0           policy_relu[0][0]                \n",
            "__________________________________________________________________________________________________\n",
            "value_dense (Dense)             (None, 256)          65792       value_flatten[0][0]              \n",
            "__________________________________________________________________________________________________\n",
            "policy_out (Dense)              (None, 1968)         253872      policy_flatten[0][0]             \n",
            "__________________________________________________________________________________________________\n",
            "value_out (Dense)               (None, 1)            257         value_dense[0][0]                \n",
            "==================================================================================================\n",
            "Total params: 6,349,007\n",
            "Trainable params: 6,343,363\n",
            "Non-trainable params: 5,644\n",
            "__________________________________________________________________________________________________\n"
          ],
          "name": "stdout"
        }
      ]
    },
    {
      "metadata": {
        "id": "CywEXYJXt_kM",
        "colab_type": "code",
        "outputId": "21c279e6-e445-4c33-f214-b6254c5a2a05",
        "colab": {
          "base_uri": "https://localhost:8080/",
          "height": 1147
        }
      },
      "cell_type": "code",
      "source": [
        "import time\n",
        "\n",
        "epochs = 10\n",
        "batch_size = 256\n",
        "\n",
        "tpu_model = tf.contrib.tpu.keras_to_tpu_model(\n",
        "    model,\n",
        "    strategy = tf.contrib.tpu.TPUDistributionStrategy(\n",
        "        tf.contrib.cluster_resolver.TPUClusterResolver(tpu='grpc://' + os.environ['COLAB_TPU_ADDR'])\n",
        "    )\n",
        ")\n",
        "\n",
        "tpu_model.compile(\n",
        "    optimizer = tf.train.AdamOptimizer(learning_rate=1e-3, ),\n",
        "    loss = [tf.keras.losses.categorical_crossentropy, tf.keras.losses.mean_squared_error],\n",
        "    loss_weights = [1.25, 1.0]\n",
        ")\n",
        "start = time.time()\n",
        "\n",
        "history = tpu_model.fit(\n",
        "    x = state_array,\n",
        "    y = [policy_array, value_array],\n",
        "    batch_size = batch_size,\n",
        "    epochs = epochs,\n",
        "    shuffle = True, \n",
        "    validation_split=0.02\n",
        ")\n",
        "print(\"\\n\\n[INFO] Training completed in {:.04} hrs\".format((time.time() - start) / 3600))\n",
        "\n",
        "cpu_model = tpu_model.sync_to_cpu()\n",
        "cpu_model.save_weights(os.path.join(\"/content/drive/My Drive/Colab Notebooks/ChessAI/nets\", \"keras_model_weights_tpu_{}e.h5\".format(epochs)))"
      ],
      "execution_count": 0,
      "outputs": [
        {
          "output_type": "stream",
          "text": [
            "INFO:tensorflow:Querying Tensorflow master (b'grpc://10.17.125.162:8470') for TPU system metadata.\n",
            "INFO:tensorflow:Found TPU system:\n",
            "INFO:tensorflow:*** Num TPU Cores: 8\n",
            "INFO:tensorflow:*** Num TPU Workers: 1\n",
            "INFO:tensorflow:*** Num TPU Cores Per Worker: 8\n",
            "INFO:tensorflow:*** Available Device: _DeviceAttributes(/job:worker/replica:0/task:0/device:CPU:0, CPU, -1, 7207861141904379785)\n",
            "INFO:tensorflow:*** Available Device: _DeviceAttributes(/job:worker/replica:0/task:0/device:XLA_CPU:0, XLA_CPU, 17179869184, 13816945816331221900)\n",
            "INFO:tensorflow:*** Available Device: _DeviceAttributes(/job:worker/replica:0/task:0/device:XLA_GPU:0, XLA_GPU, 17179869184, 15181982555864580038)\n",
            "INFO:tensorflow:*** Available Device: _DeviceAttributes(/job:worker/replica:0/task:0/device:TPU:0, TPU, 17179869184, 9832806244918732211)\n",
            "INFO:tensorflow:*** Available Device: _DeviceAttributes(/job:worker/replica:0/task:0/device:TPU:1, TPU, 17179869184, 5238464885113172451)\n",
            "INFO:tensorflow:*** Available Device: _DeviceAttributes(/job:worker/replica:0/task:0/device:TPU:2, TPU, 17179869184, 4612944756513048978)\n",
            "INFO:tensorflow:*** Available Device: _DeviceAttributes(/job:worker/replica:0/task:0/device:TPU:3, TPU, 17179869184, 10137397439596415743)\n",
            "INFO:tensorflow:*** Available Device: _DeviceAttributes(/job:worker/replica:0/task:0/device:TPU:4, TPU, 17179869184, 4961196155194583384)\n",
            "INFO:tensorflow:*** Available Device: _DeviceAttributes(/job:worker/replica:0/task:0/device:TPU:5, TPU, 17179869184, 16739907553248581609)\n",
            "INFO:tensorflow:*** Available Device: _DeviceAttributes(/job:worker/replica:0/task:0/device:TPU:6, TPU, 17179869184, 17766203876096306128)\n",
            "INFO:tensorflow:*** Available Device: _DeviceAttributes(/job:worker/replica:0/task:0/device:TPU:7, TPU, 17179869184, 2575581155953322538)\n",
            "INFO:tensorflow:*** Available Device: _DeviceAttributes(/job:worker/replica:0/task:0/device:TPU_SYSTEM:0, TPU_SYSTEM, 17179869184, 6223557327724139332)\n",
            "WARNING:tensorflow:tpu_model (from tensorflow.contrib.tpu.python.tpu.keras_support) is experimental and may change or be removed at any time, and without warning.\n",
            "Train on 348821 samples, validate on 6977 samples\n",
            "Epoch 1/10\n",
            "INFO:tensorflow:New input shapes; (re-)compiling: mode=train (# of cores 8), [TensorSpec(shape=(32,), dtype=tf.int32, name='core_id0'), TensorSpec(shape=(32, 8, 8, 18), dtype=tf.float32, name='input_1_10'), TensorSpec(shape=(32, 1968), dtype=tf.float32, name='policy_out_target_10'), TensorSpec(shape=(32, 1), dtype=tf.float32, name='value_out_target_10')]\n",
            "INFO:tensorflow:Overriding default placeholder.\n",
            "INFO:tensorflow:Remapping placeholder for input_1\n",
            "INFO:tensorflow:Started compiling\n",
            "INFO:tensorflow:Finished compiling. Time elapsed: 8.637545108795166 secs\n",
            "INFO:tensorflow:Setting weights on TPU model.\n",
            "348416/348821 [============================>.] - ETA: 0s - loss: 6.9153 - policy_out_loss: 4.7651 - value_out_loss: 0.6431INFO:tensorflow:New input shapes; (re-)compiling: mode=train (# of cores 8), [TensorSpec(shape=(18,), dtype=tf.int32, name='core_id0'), TensorSpec(shape=(18, 8, 8, 18), dtype=tf.float32, name='input_1_10'), TensorSpec(shape=(18, 1968), dtype=tf.float32, name='policy_out_target_10'), TensorSpec(shape=(18, 1), dtype=tf.float32, name='value_out_target_10')]\n",
            "INFO:tensorflow:Overriding default placeholder.\n",
            "INFO:tensorflow:Remapping placeholder for input_1\n",
            "INFO:tensorflow:Started compiling\n",
            "INFO:tensorflow:Finished compiling. Time elapsed: 6.101478815078735 secs\n",
            "348672/348821 [============================>.] - ETA: 0s - loss: 6.9142 - policy_out_loss: 4.7642 - value_out_loss: 0.6431INFO:tensorflow:New input shapes; (re-)compiling: mode=eval (# of cores 8), [TensorSpec(shape=(32,), dtype=tf.int32, name='core_id_10'), TensorSpec(shape=(32, 8, 8, 18), dtype=tf.float32, name='input_1_10'), TensorSpec(shape=(32, 1968), dtype=tf.float32, name='policy_out_target_10'), TensorSpec(shape=(32, 1), dtype=tf.float32, name='value_out_target_10')]\n",
            "INFO:tensorflow:Overriding default placeholder.\n",
            "INFO:tensorflow:Remapping placeholder for input_1\n",
            "INFO:tensorflow:Started compiling\n",
            "INFO:tensorflow:Finished compiling. Time elapsed: 3.922516345977783 secs\n",
            "INFO:tensorflow:New input shapes; (re-)compiling: mode=eval (# of cores 8), [TensorSpec(shape=(8,), dtype=tf.int32, name='core_id_10'), TensorSpec(shape=(8, 8, 8, 18), dtype=tf.float32, name='input_1_10'), TensorSpec(shape=(8, 1968), dtype=tf.float32, name='policy_out_target_10'), TensorSpec(shape=(8, 1), dtype=tf.float32, name='value_out_target_10')]\n",
            "INFO:tensorflow:Overriding default placeholder.\n",
            "INFO:tensorflow:Remapping placeholder for input_1\n",
            "INFO:tensorflow:Started compiling\n",
            "INFO:tensorflow:Finished compiling. Time elapsed: 3.8113837242126465 secs\n",
            "348821/348821 [==============================] - 278s 797us/step - loss: 6.9136 - policy_out_loss: 4.7637 - value_out_loss: 0.6431 - val_loss: 5.3756 - val_policy_out_loss: 3.5273 - val_value_out_loss: 0.6126\n",
            "Epoch 2/10\n",
            "348821/348821 [==============================] - 234s 672us/step - loss: 4.9566 - policy_out_loss: 3.1682 - value_out_loss: 0.6223 - val_loss: 4.5920 - val_policy_out_loss: 2.8787 - val_value_out_loss: 0.6092\n",
            "Epoch 3/10\n",
            "348821/348821 [==============================] - 235s 674us/step - loss: 4.5485 - policy_out_loss: 2.8288 - value_out_loss: 0.6151 - val_loss: 4.2373 - val_policy_out_loss: 2.5983 - val_value_out_loss: 0.5880\n",
            "Epoch 4/10\n",
            "348821/348821 [==============================] - 235s 675us/step - loss: 4.3351 - policy_out_loss: 2.6577 - value_out_loss: 0.5965 - val_loss: 4.1201 - val_policy_out_loss: 2.5109 - val_value_out_loss: 0.5595\n",
            "Epoch 5/10\n",
            "348821/348821 [==============================] - 234s 672us/step - loss: 4.1755 - policy_out_loss: 2.5432 - value_out_loss: 0.5591 - val_loss: 3.8982 - val_policy_out_loss: 2.3528 - val_value_out_loss: 0.5138\n",
            "Epoch 6/10\n",
            "348821/348821 [==============================] - 237s 680us/step - loss: 4.0336 - policy_out_loss: 2.4525 - value_out_loss: 0.5088 - val_loss: 3.7744 - val_policy_out_loss: 2.2577 - val_value_out_loss: 0.4862\n",
            "Epoch 7/10\n",
            "348821/348821 [==============================] - 237s 678us/step - loss: 3.9149 - policy_out_loss: 2.3780 - value_out_loss: 0.4603 - val_loss: 3.6579 - val_policy_out_loss: 2.1929 - val_value_out_loss: 0.4284\n",
            "Epoch 8/10\n",
            "348821/348821 [==============================] - 237s 681us/step - loss: 3.8169 - policy_out_loss: 2.3164 - value_out_loss: 0.4202 - val_loss: 3.5568 - val_policy_out_loss: 2.1277 - val_value_out_loss: 0.3915\n",
            "Epoch 9/10\n",
            "348821/348821 [==============================] - 237s 681us/step - loss: 3.7363 - policy_out_loss: 2.2622 - value_out_loss: 0.3880 - val_loss: 3.4798 - val_policy_out_loss: 2.0748 - val_value_out_loss: 0.3600\n",
            "Epoch 10/10\n",
            "348821/348821 [==============================] - 239s 686us/step - loss: 3.6694 - policy_out_loss: 2.2142 - value_out_loss: 0.3624 - val_loss: 3.4060 - val_policy_out_loss: 2.0285 - val_value_out_loss: 0.3261\n",
            "\n",
            "\n",
            "[INFO] Training completed in 0.6681 hrs\n",
            "INFO:tensorflow:Copying TPU weights to the CPU\n"
          ],
          "name": "stdout"
        }
      ]
    },
    {
      "metadata": {
        "id": "0t34ebghuKt9",
        "colab_type": "code",
        "outputId": "0d44eecc-a997-43b1-8425-c4566589314d",
        "colab": {
          "base_uri": "https://localhost:8080/",
          "height": 35
        }
      },
      "cell_type": "code",
      "source": [
        "os.environ['COLAB_TPU_ADDR']"
      ],
      "execution_count": 0,
      "outputs": [
        {
          "output_type": "execute_result",
          "data": {
            "text/plain": [
              "'10.17.125.162:8470'"
            ]
          },
          "metadata": {
            "tags": []
          },
          "execution_count": 8
        }
      ]
    },
    {
      "metadata": {
        "id": "TNzol7DfutH1",
        "colab_type": "code",
        "colab": {}
      },
      "cell_type": "code",
      "source": [
        "cpu_model.save_weights(os.path.join(\"/content/drive/My Drive/Colab Notebooks/ChessAI/nets\", \"keras_model_weights_tpu_{}e.h5\".format(epochs)))"
      ],
      "execution_count": 0,
      "outputs": []
    },
    {
      "metadata": {
        "id": "Vj_EFxlNzUDk",
        "colab_type": "code",
        "colab": {}
      },
      "cell_type": "code",
      "source": [
        ""
      ],
      "execution_count": 0,
      "outputs": []
    }
  ]
}